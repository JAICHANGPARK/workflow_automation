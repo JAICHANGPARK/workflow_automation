{
 "cells": [
  {
   "cell_type": "code",
   "execution_count": 1,
   "metadata": {},
   "outputs": [],
   "source": [
    "from selenium import webdriver"
   ]
  },
  {
   "cell_type": "code",
   "execution_count": 7,
   "metadata": {},
   "outputs": [],
   "source": [
    "driver = webdriver.Chrome('./driver/chromedriver.exe')"
   ]
  },
  {
   "cell_type": "code",
   "execution_count": 8,
   "metadata": {},
   "outputs": [
    {
     "name": "stdout",
     "output_type": "stream",
     "text": [
      "<selenium.webdriver.remote.webelement.WebElement (session=\"5483ce288593dd4a1b3014b704255710\", element=\"186fc9d3-8644-4818-9f97-ca33ceb6c84c\")>\n",
      "[<selenium.webdriver.remote.webelement.WebElement (session=\"5483ce288593dd4a1b3014b704255710\", element=\"5daeb16f-5fed-4811-b3ca-e2340bd93a70\")>, <selenium.webdriver.remote.webelement.WebElement (session=\"5483ce288593dd4a1b3014b704255710\", element=\"dd84cbfe-f931-45a7-b81f-2beaabb5fa63\")>, <selenium.webdriver.remote.webelement.WebElement (session=\"5483ce288593dd4a1b3014b704255710\", element=\"7de6eb98-5f8e-4d13-b00e-f6419dfd8815\")>, <selenium.webdriver.remote.webelement.WebElement (session=\"5483ce288593dd4a1b3014b704255710\", element=\"f6f19ccf-f0b8-4be7-badc-9de0bcf278c3\")>, <selenium.webdriver.remote.webelement.WebElement (session=\"5483ce288593dd4a1b3014b704255710\", element=\"a706fe55-49ec-4865-9a07-fdf9a657e549\")>, <selenium.webdriver.remote.webelement.WebElement (session=\"5483ce288593dd4a1b3014b704255710\", element=\"8b74feb0-6f90-477b-8f86-2cdfeba5e149\")>, <selenium.webdriver.remote.webelement.WebElement (session=\"5483ce288593dd4a1b3014b704255710\", element=\"4ee6ed9a-9e73-4c59-adb7-89c3fcbfa24e\")>, <selenium.webdriver.remote.webelement.WebElement (session=\"5483ce288593dd4a1b3014b704255710\", element=\"5c19ea9e-9da4-4407-92bc-6d7b338cfbe5\")>, <selenium.webdriver.remote.webelement.WebElement (session=\"5483ce288593dd4a1b3014b704255710\", element=\"56ea9a57-68fc-48ee-896a-e49339f6c38e\")>, <selenium.webdriver.remote.webelement.WebElement (session=\"5483ce288593dd4a1b3014b704255710\", element=\"417225b7-4fb9-4589-8248-0eb0cc18fe11\")>]\n",
      "1 [인터뷰] '조국 저격수' 김근식 \"난 절대善이라는…운동권 민낯 조국, 결국 스스로 넘어질 것\"\n",
      "2 한국돈 18조 들어간 평택 미군기지…식당선 \"카드·원화 사절\"\n",
      "3 국방부장관도 아닌 법무부장관이 ‘서해맹산’이라니…선조의 孤臣 이순신 vs 문재인의 寵臣 조국\n",
      "4 영화와 달리 내뺀 김상헌···文에겐 최명길이 필요하다\n",
      "5 오늘 김대중 전 대통령 서거 10주기 추도식\n",
      "6 도쿄 올림픽 보이콧, 여행금지 확대…적절한 극일 카드?\n",
      "7 달아오른 인사청문 大戰…\"전원 무사통과\" vs \"조국 자진사퇴\"\n",
      "8 [일요진단 라이브] 조국 법무장관 지명, 적절 42% vs 부적절 36%\n",
      "9 장성민 \"DJ 계승한다는 文정부, 가장 공들였던 외교는 폐기\"\n",
      "10 경기북부에 28兆 퍼붓겠다는 이재명, `총선화두` 분도론 막아낼까\n"
     ]
    }
   ],
   "source": [
    "try:\n",
    "    driver.get(\"https://news.naver.com/\")\n",
    "    elem = driver.find_element_by_id('right.ranking_contents')\n",
    "    print(elem)\n",
    "    childs = elem.find_elements_by_tag_name('li')\n",
    "    print(childs)\n",
    "    for i in childs:\n",
    "        print(i.text)\n",
    "except Exception as e:\n",
    "    print(e)\n",
    "finally:\n",
    "    driver.quit()"
   ]
  },
  {
   "cell_type": "code",
   "execution_count": null,
   "metadata": {},
   "outputs": [],
   "source": []
  }
 ],
 "metadata": {
  "kernelspec": {
   "display_name": "Python 3",
   "language": "python",
   "name": "python3"
  },
  "language_info": {
   "codemirror_mode": {
    "name": "ipython",
    "version": 3
   },
   "file_extension": ".py",
   "mimetype": "text/x-python",
   "name": "python",
   "nbconvert_exporter": "python",
   "pygments_lexer": "ipython3",
   "version": "3.6.5"
  }
 },
 "nbformat": 4,
 "nbformat_minor": 2
}
