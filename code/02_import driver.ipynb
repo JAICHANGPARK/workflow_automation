{
 "cells": [
  {
   "cell_type": "code",
   "execution_count": 101,
   "metadata": {},
   "outputs": [],
   "source": [
    "from selenium import webdriver"
   ]
  },
  {
   "cell_type": "code",
   "execution_count": 102,
   "metadata": {},
   "outputs": [],
   "source": [
    "driver = webdriver.Chrome('./driver/chromedriver.exe')"
   ]
  },
  {
   "cell_type": "code",
   "execution_count": 103,
   "metadata": {},
   "outputs": [],
   "source": [
    "driver.get(\"https://news.naver.com/\")"
   ]
  },
  {
   "cell_type": "code",
   "execution_count": 110,
   "metadata": {},
   "outputs": [
    {
     "name": "stdout",
     "output_type": "stream",
     "text": [
      "<selenium.webdriver.remote.webelement.WebElement (session=\"fa427debea37304d52c352275a1c504e\", element=\"d29694c4-484b-4c52-9230-2e38252f5e17\")>\n",
      "[<selenium.webdriver.remote.webelement.WebElement (session=\"fa427debea37304d52c352275a1c504e\", element=\"d9fe06c2-a9bb-402c-b206-3299d6f1478b\")>, <selenium.webdriver.remote.webelement.WebElement (session=\"fa427debea37304d52c352275a1c504e\", element=\"a521b630-c1af-471b-ab1e-ba651b82b3f4\")>, <selenium.webdriver.remote.webelement.WebElement (session=\"fa427debea37304d52c352275a1c504e\", element=\"118a8cd5-f5d2-4960-9f07-e97adb6e4451\")>, <selenium.webdriver.remote.webelement.WebElement (session=\"fa427debea37304d52c352275a1c504e\", element=\"4daf2330-167b-4a62-a333-77714718dfe9\")>, <selenium.webdriver.remote.webelement.WebElement (session=\"fa427debea37304d52c352275a1c504e\", element=\"156fd3c0-6965-45b3-a917-d5c29a896e7f\")>, <selenium.webdriver.remote.webelement.WebElement (session=\"fa427debea37304d52c352275a1c504e\", element=\"a05e10e7-e1bc-47c3-ae63-109574ae630f\")>, <selenium.webdriver.remote.webelement.WebElement (session=\"fa427debea37304d52c352275a1c504e\", element=\"c6d95278-fe32-43ce-a90a-de18a6379207\")>, <selenium.webdriver.remote.webelement.WebElement (session=\"fa427debea37304d52c352275a1c504e\", element=\"529b8107-cbb1-4e04-9b9e-22f444a72287\")>, <selenium.webdriver.remote.webelement.WebElement (session=\"fa427debea37304d52c352275a1c504e\", element=\"e3a04f7a-b215-4d46-b72f-eda95cbd634a\")>, <selenium.webdriver.remote.webelement.WebElement (session=\"fa427debea37304d52c352275a1c504e\", element=\"c7f46b1c-893a-40df-9cce-ed1d2384071f\")>]\n"
     ]
    }
   ],
   "source": [
    "elem = driver.find_element_by_id('right.ranking_contents')\n",
    "print(elem)\n",
    "childs = elem.find_elements_by_tag_name('li')\n",
    "print(childs)"
   ]
  },
  {
   "cell_type": "code",
   "execution_count": 105,
   "metadata": {},
   "outputs": [
    {
     "data": {
      "text/plain": [
       "[<selenium.webdriver.remote.webelement.WebElement (session=\"fa427debea37304d52c352275a1c504e\", element=\"d9fe06c2-a9bb-402c-b206-3299d6f1478b\")>,\n",
       " <selenium.webdriver.remote.webelement.WebElement (session=\"fa427debea37304d52c352275a1c504e\", element=\"a521b630-c1af-471b-ab1e-ba651b82b3f4\")>,\n",
       " <selenium.webdriver.remote.webelement.WebElement (session=\"fa427debea37304d52c352275a1c504e\", element=\"118a8cd5-f5d2-4960-9f07-e97adb6e4451\")>,\n",
       " <selenium.webdriver.remote.webelement.WebElement (session=\"fa427debea37304d52c352275a1c504e\", element=\"4daf2330-167b-4a62-a333-77714718dfe9\")>,\n",
       " <selenium.webdriver.remote.webelement.WebElement (session=\"fa427debea37304d52c352275a1c504e\", element=\"156fd3c0-6965-45b3-a917-d5c29a896e7f\")>,\n",
       " <selenium.webdriver.remote.webelement.WebElement (session=\"fa427debea37304d52c352275a1c504e\", element=\"a05e10e7-e1bc-47c3-ae63-109574ae630f\")>,\n",
       " <selenium.webdriver.remote.webelement.WebElement (session=\"fa427debea37304d52c352275a1c504e\", element=\"c6d95278-fe32-43ce-a90a-de18a6379207\")>,\n",
       " <selenium.webdriver.remote.webelement.WebElement (session=\"fa427debea37304d52c352275a1c504e\", element=\"529b8107-cbb1-4e04-9b9e-22f444a72287\")>,\n",
       " <selenium.webdriver.remote.webelement.WebElement (session=\"fa427debea37304d52c352275a1c504e\", element=\"e3a04f7a-b215-4d46-b72f-eda95cbd634a\")>,\n",
       " <selenium.webdriver.remote.webelement.WebElement (session=\"fa427debea37304d52c352275a1c504e\", element=\"c7f46b1c-893a-40df-9cce-ed1d2384071f\")>]"
      ]
     },
     "execution_count": 105,
     "metadata": {},
     "output_type": "execute_result"
    }
   ],
   "source": [
    "childs"
   ]
  },
  {
   "cell_type": "code",
   "execution_count": 111,
   "metadata": {},
   "outputs": [],
   "source": [
    "elem = driver.find_element_by_id('right.ranking_contents')"
   ]
  },
  {
   "cell_type": "code",
   "execution_count": 112,
   "metadata": {},
   "outputs": [
    {
     "data": {
      "text/plain": [
       "<selenium.webdriver.remote.webelement.WebElement (session=\"fa427debea37304d52c352275a1c504e\", element=\"d29694c4-484b-4c52-9230-2e38252f5e17\")>"
      ]
     },
     "execution_count": 112,
     "metadata": {},
     "output_type": "execute_result"
    }
   ],
   "source": [
    "elem\n"
   ]
  },
  {
   "cell_type": "code",
   "execution_count": 88,
   "metadata": {},
   "outputs": [
    {
     "data": {
      "text/plain": [
       "'정치\\n1 하고픈 말 4년 전에 한 文 \"北막말에 수치심, 모욕 느껴… 선 넘지마라\"\\n2 이혼했다던 동생 부부… 주민들 \"보름전까지 같이 사는 것 봤다\"\\n3 “조국 일가, 42억 채무변제 회피 의혹”\\n4 또 ‘새 무기’ 쏴봤다는 북한… 김정은 “신비할 정도 성공률”\\n5 정미경 \"화이트리스트 배제, 일본에 꼬투리 잡힌 것\"\\n6 김정은 주먹 불끈 “불장난 엄두 못내게”…또 ‘새 무기’ 시험사격\\n7 [취재후] 눈을 의심했다…명동 한복판 건물 현 소유주는 “조선총독부”\\n8 北 \\'북한판 에이태킴스\\' 또 발사…230㎞ 떨어진 섬 정밀타격\\n9 경남 출신 두 보수 잠룡, 내년 총선 고향서 출마하나\\n10 조국 동생, 父 학교에 \\'50억 소송\\' 승소…학교, 변론 안 해\\n가장 많이 본 뉴스\\n더보기'"
      ]
     },
     "execution_count": 88,
     "metadata": {},
     "output_type": "execute_result"
    }
   ],
   "source": [
    "elem.text"
   ]
  },
  {
   "cell_type": "code",
   "execution_count": 113,
   "metadata": {},
   "outputs": [],
   "source": [
    "childs = elem.find_elements_by_tag_name('li')"
   ]
  },
  {
   "cell_type": "code",
   "execution_count": 58,
   "metadata": {},
   "outputs": [],
   "source": [
    "childs = elem.find_element_by_class_name('section_list_ranking').find_element_by_tag_name('li')"
   ]
  },
  {
   "cell_type": "code",
   "execution_count": 70,
   "metadata": {},
   "outputs": [],
   "source": [
    "childs = elem.find_element_by_class_name('section_list_ranking')"
   ]
  },
  {
   "cell_type": "code",
   "execution_count": 114,
   "metadata": {
    "scrolled": false
   },
   "outputs": [
    {
     "data": {
      "text/plain": [
       "[<selenium.webdriver.remote.webelement.WebElement (session=\"fa427debea37304d52c352275a1c504e\", element=\"d9fe06c2-a9bb-402c-b206-3299d6f1478b\")>,\n",
       " <selenium.webdriver.remote.webelement.WebElement (session=\"fa427debea37304d52c352275a1c504e\", element=\"a521b630-c1af-471b-ab1e-ba651b82b3f4\")>,\n",
       " <selenium.webdriver.remote.webelement.WebElement (session=\"fa427debea37304d52c352275a1c504e\", element=\"118a8cd5-f5d2-4960-9f07-e97adb6e4451\")>,\n",
       " <selenium.webdriver.remote.webelement.WebElement (session=\"fa427debea37304d52c352275a1c504e\", element=\"4daf2330-167b-4a62-a333-77714718dfe9\")>,\n",
       " <selenium.webdriver.remote.webelement.WebElement (session=\"fa427debea37304d52c352275a1c504e\", element=\"156fd3c0-6965-45b3-a917-d5c29a896e7f\")>,\n",
       " <selenium.webdriver.remote.webelement.WebElement (session=\"fa427debea37304d52c352275a1c504e\", element=\"a05e10e7-e1bc-47c3-ae63-109574ae630f\")>,\n",
       " <selenium.webdriver.remote.webelement.WebElement (session=\"fa427debea37304d52c352275a1c504e\", element=\"c6d95278-fe32-43ce-a90a-de18a6379207\")>,\n",
       " <selenium.webdriver.remote.webelement.WebElement (session=\"fa427debea37304d52c352275a1c504e\", element=\"529b8107-cbb1-4e04-9b9e-22f444a72287\")>,\n",
       " <selenium.webdriver.remote.webelement.WebElement (session=\"fa427debea37304d52c352275a1c504e\", element=\"e3a04f7a-b215-4d46-b72f-eda95cbd634a\")>,\n",
       " <selenium.webdriver.remote.webelement.WebElement (session=\"fa427debea37304d52c352275a1c504e\", element=\"c7f46b1c-893a-40df-9cce-ed1d2384071f\")>]"
      ]
     },
     "execution_count": 114,
     "metadata": {},
     "output_type": "execute_result"
    }
   ],
   "source": [
    "childs"
   ]
  },
  {
   "cell_type": "code",
   "execution_count": 115,
   "metadata": {
    "scrolled": true
   },
   "outputs": [
    {
     "name": "stdout",
     "output_type": "stream",
     "text": [
      "1 하고픈 말 4년 전에 한 文 \"北막말에 수치심, 모욕 느껴… 선 넘지마라\"\n",
      "2 이혼했다던 동생 부부… 주민들 \"보름전까지 같이 사는 것 봤다\"\n",
      "3 “조국 일가, 42억 채무변제 회피 의혹”\n",
      "4 또 ‘새 무기’ 쏴봤다는 북한… 김정은 “신비할 정도 성공률”\n",
      "5 정미경 \"화이트리스트 배제, 일본에 꼬투리 잡힌 것\"\n",
      "6 김정은 주먹 불끈 “불장난 엄두 못내게”…또 ‘새 무기’ 시험사격\n",
      "7 [취재후] 눈을 의심했다…명동 한복판 건물 현 소유주는 “조선총독부”\n",
      "8 北 '북한판 에이태킴스' 또 발사…230㎞ 떨어진 섬 정밀타격\n",
      "9 경남 출신 두 보수 잠룡, 내년 총선 고향서 출마하나\n",
      "10 조국 동생, 父 학교에 '50억 소송' 승소…학교, 변론 안 해\n"
     ]
    }
   ],
   "source": [
    "for i in childs:\n",
    "    print(i.text)"
   ]
  },
  {
   "cell_type": "code",
   "execution_count": 116,
   "metadata": {},
   "outputs": [],
   "source": [
    "driver.quit()"
   ]
  },
  {
   "cell_type": "code",
   "execution_count": 100,
   "metadata": {},
   "outputs": [
    {
     "name": "stdout",
     "output_type": "stream",
     "text": [
      "1 하고픈 말 4년 전에 한 文 \"北막말에 수치심, 모욕 느껴… 선 넘지마라\"\n",
      "2 이혼했다던 동생 부부… 주민들 \"보름전까지 같이 사는 것 봤다\"\n",
      "3 “조국 일가, 42억 채무변제 회피 의혹”\n",
      "4 또 ‘새 무기’ 쏴봤다는 북한… 김정은 “신비할 정도 성공률”\n",
      "5 정미경 \"화이트리스트 배제, 일본에 꼬투리 잡힌 것\"\n",
      "6 김정은 주먹 불끈 “불장난 엄두 못내게”…또 ‘새 무기’ 시험사격\n",
      "7 [취재후] 눈을 의심했다…명동 한복판 건물 현 소유주는 “조선총독부”\n",
      "8 北 '북한판 에이태킴스' 또 발사…230㎞ 떨어진 섬 정밀타격\n",
      "9 경남 출신 두 보수 잠룡, 내년 총선 고향서 출마하나\n",
      "10 조국 동생, 父 학교에 '50억 소송' 승소…학교, 변론 안 해\n"
     ]
    }
   ],
   "source": [
    "from selenium import webdriver\n",
    "\n",
    "driver = webdriver.Chrome('./driver/chromedriver.exe')\n",
    "\n",
    "driver.get('http://news.naver.com')\n",
    "elem = driver.find_element_by_id('right.ranking_contents')\n",
    "childs = elem.find_elements_by_tag_name('li')\n",
    "\n",
    "for child in childs:\n",
    "    print(child.text)\n",
    "\n",
    "driver.quit()\n"
   ]
  },
  {
   "cell_type": "code",
   "execution_count": null,
   "metadata": {},
   "outputs": [],
   "source": []
  }
 ],
 "metadata": {
  "kernelspec": {
   "display_name": "Python 3",
   "language": "python",
   "name": "python3"
  },
  "language_info": {
   "codemirror_mode": {
    "name": "ipython",
    "version": 3
   },
   "file_extension": ".py",
   "mimetype": "text/x-python",
   "name": "python",
   "nbconvert_exporter": "python",
   "pygments_lexer": "ipython3",
   "version": "3.6.5"
  }
 },
 "nbformat": 4,
 "nbformat_minor": 2
}
