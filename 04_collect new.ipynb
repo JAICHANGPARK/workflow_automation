{
 "cells": [
  {
   "cell_type": "code",
   "execution_count": 11,
   "metadata": {},
   "outputs": [],
   "source": [
    "from selenium import webdriver"
   ]
  },
  {
   "cell_type": "code",
   "execution_count": 12,
   "metadata": {},
   "outputs": [],
   "source": [
    "from selenium.webdriver.common.keys import Keys"
   ]
  },
  {
   "cell_type": "code",
   "execution_count": 2,
   "metadata": {},
   "outputs": [],
   "source": [
    "driver = webdriver.Chrome('./driver/chromedriver.exe')"
   ]
  },
  {
   "cell_type": "code",
   "execution_count": 19,
   "metadata": {},
   "outputs": [
    {
     "name": "stdout",
     "output_type": "stream",
     "text": [
      "자이언트캣이 눈앞에 ‘척’…AR성지로 떠오른 올림픽공원 IT조선 1시간 전 보내기\n",
      "16일 AR성지로 떠오른 올림픽공원 한얼광장에 가서 고양이와 용과 함께한 시간을 가졌다. SK텔레콤은 최근 ‘AR 동물원’ 서비스 런칭과 함께 13일부터 25일까지 올림픽공원에 ‘5GX 쿨파크’를 운영 중이다. 고객은...\n",
      "서울 한복판에 마법진 그려지면, 자이언트 고양이가… 비즈니스워치 1시간 전\n",
      "'몰입경험' 시대…올림픽공원 속 '초실감' 동물원 연합인포맥스 1시간 전\n",
      "관련뉴스 전체보기\n"
     ]
    }
   ],
   "source": [
    "try:\n",
    "    driver.get(\"https://naver.com/\")\n",
    "    elem = driver.find_element_by_id(\"query\")\n",
    "    elem.send_keys(\"올림픽공원 고양이\")\n",
    "    elem.send_keys(Keys.RETURN)\n",
    "    div = driver.find_element_by_class_name('_prs_nws_all')\n",
    "    elem = div.find_element_by_tag_name('ul')\n",
    "    news = div.find_elements_by_xpath('./ul/li')\n",
    "    print(news[0].text)\n",
    "#     elem = driver.find_element_by_id(\"search_btn\")\n",
    "   \n",
    "except Exception as e:\n",
    "    print(e)\n",
    "finally:\n",
    "    pass"
   ]
  },
  {
   "cell_type": "code",
   "execution_count": null,
   "metadata": {},
   "outputs": [],
   "source": []
  }
 ],
 "metadata": {
  "kernelspec": {
   "display_name": "Python 3",
   "language": "python",
   "name": "python3"
  },
  "language_info": {
   "codemirror_mode": {
    "name": "ipython",
    "version": 3
   },
   "file_extension": ".py",
   "mimetype": "text/x-python",
   "name": "python",
   "nbconvert_exporter": "python",
   "pygments_lexer": "ipython3",
   "version": "3.6.5"
  }
 },
 "nbformat": 4,
 "nbformat_minor": 2
}
