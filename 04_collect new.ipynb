{
 "cells": [
  {
   "cell_type": "code",
   "execution_count": 11,
   "metadata": {},
   "outputs": [],
   "source": [
    "from selenium import webdriver"
   ]
  },
  {
   "cell_type": "code",
   "execution_count": 12,
   "metadata": {},
   "outputs": [],
   "source": [
    "from selenium.webdriver.common.keys import Keys"
   ]
  },
  {
   "cell_type": "code",
   "execution_count": 2,
   "metadata": {},
   "outputs": [],
   "source": [
    "driver = webdriver.Chrome('./driver/chromedriver.exe')"
   ]
  },
  {
   "cell_type": "code",
   "execution_count": 23,
   "metadata": {},
   "outputs": [
    {
     "name": "stdout",
     "output_type": "stream",
     "text": [
      "자이언트캣이 눈앞에 ‘척’…AR성지로 떠오른 올림픽공원\n",
      "올림픽공원 '대왕고양이' 앞에서 자기가 더 귀엽다며 카메라 막아서는 레서판...\n",
      "[TF포토] ‘올림픽공원에 나타난 초대형 고양이’\n",
      "'올림픽공원 점령한 거대 고양이'\n"
     ]
    }
   ],
   "source": [
    "try:\n",
    "    driver.get(\"https://naver.com/\")\n",
    "    elem = driver.find_element_by_id(\"query\")\n",
    "    elem.send_keys(\"올림픽공원 고양이\")\n",
    "    elem.send_keys(Keys.RETURN)\n",
    "    div = driver.find_element_by_class_name('_prs_nws_all')\n",
    "    elem = div.find_element_by_tag_name('ul')\n",
    "    news = div.find_elements_by_xpath('./ul/li')\n",
    "#     print(news[0].text)\n",
    "#     elem = driver.find_element_by_id(\"search_btn\")\n",
    "    for i in news:\n",
    "        title_tag = i.find_element_by_class_name('_sp_each_title')\n",
    "        print(title_tag.text)\n",
    "except Exception as e:\n",
    "    print(e)\n",
    "finally:\n",
    "    pass"
   ]
  },
  {
   "cell_type": "code",
   "execution_count": null,
   "metadata": {},
   "outputs": [],
   "source": []
  }
 ],
 "metadata": {
  "kernelspec": {
   "display_name": "Python 3",
   "language": "python",
   "name": "python3"
  },
  "language_info": {
   "codemirror_mode": {
    "name": "ipython",
    "version": 3
   },
   "file_extension": ".py",
   "mimetype": "text/x-python",
   "name": "python",
   "nbconvert_exporter": "python",
   "pygments_lexer": "ipython3",
   "version": "3.6.5"
  }
 },
 "nbformat": 4,
 "nbformat_minor": 2
}
